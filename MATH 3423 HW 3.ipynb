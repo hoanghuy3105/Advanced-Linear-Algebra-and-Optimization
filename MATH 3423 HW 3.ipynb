{
 "cells": [
  {
   "cell_type": "code",
   "execution_count": 4,
   "metadata": {},
   "outputs": [],
   "source": [
    "#MATH 3423 HW3\n",
    "#Student Name: Huy Huynh"
   ]
  },
  {
   "cell_type": "code",
   "execution_count": 2,
   "metadata": {},
   "outputs": [],
   "source": [
    "import numpy as np"
   ]
  },
  {
   "cell_type": "code",
   "execution_count": 3,
   "metadata": {},
   "outputs": [
    {
     "name": "stdout",
     "output_type": "stream",
     "text": [
      "==========\n",
      " matrix A:\n",
      "\n",
      "[[ 1  6 -1  4  7]\n",
      " [-7  0 12 -8  2]\n",
      " [14  4  5  3 35]]\n",
      "==========\n",
      " b:\n",
      "\n",
      "[[1]\n",
      " [2]\n",
      " [3]]\n"
     ]
    }
   ],
   "source": [
    "A=np.array([[ 1, 6,-1, 4, 7],\n",
    "          [-7, 0,12,-8, 2],\n",
    "          [14, 4, 5, 3,35]])\n",
    "\n",
    "print(\"==========\\n matrix A:\\n\")\n",
    "print(A)\n",
    "\n",
    "b = np.array([[1],\n",
    "              [2],\n",
    "              [3]])\n",
    "\n",
    "print(\"==========\\n b:\\n\")\n",
    "print(b)"
   ]
  },
  {
   "cell_type": "code",
   "execution_count": 4,
   "metadata": {},
   "outputs": [],
   "source": [
    "#Q1. Use the QR-factorization to solve Ax=b"
   ]
  },
  {
   "cell_type": "code",
   "execution_count": 37,
   "metadata": {},
   "outputs": [
    {
     "name": "stdout",
     "output_type": "stream",
     "text": [
      "Matrix Q (m x m)\n",
      "[[-0.06375767 -0.95305698 -0.29600227]\n",
      " [ 0.4463037  -0.29252244  0.84572078]\n",
      " [-0.8926074  -0.07818572  0.44400341]]\n",
      " ---------- \n",
      "Matrix Q^T Q = I (m x m)\n",
      "[[ 1.00000000e+00  9.54042891e-17  4.75245870e-17]\n",
      " [ 9.54042891e-17  1.00000000e+00 -2.79202702e-17]\n",
      " [ 4.75245870e-17 -2.79202702e-17  1.00000000e+00]]\n",
      " ---------- \n",
      "Matrix R (m x n)\n",
      "[[-15.68438714  -3.95297562   0.95636507  -6.50328247 -30.79495524]\n",
      " [  0.          -6.03108479  -2.94814091  -1.70660558  -9.99294402]\n",
      " [  0.           0.          12.66466861  -6.61776507  15.1595449 ]]\n",
      " ---------- \n"
     ]
    }
   ],
   "source": [
    "from numpy.linalg import qr\n",
    "import scipy.linalg as linalg\n",
    "from numpy.linalg import eig\n",
    "\n",
    "Q, R = qr(A, 'complete')\n",
    "print(\"Matrix Q (m x m)\")\n",
    "print(Q)\n",
    "print(\" ---------- \")\n",
    "print(\"Matrix Q^T Q = I (m x m)\")\n",
    "print(Q.T.dot(Q))\n",
    "print(\" ---------- \")\n",
    "print(\"Matrix R (m x n)\")\n",
    "print(R)\n",
    "print(\" ---------- \")"
   ]
  },
  {
   "cell_type": "code",
   "execution_count": 38,
   "metadata": {
    "scrolled": true
   },
   "outputs": [
    {
     "data": {
      "text/plain": [
       "array([[-15.68438714,  -3.95297562,   0.95636507],\n",
       "       [  0.        ,  -6.03108479,  -2.94814091],\n",
       "       [  0.        ,   0.        ,  12.66466861]])"
      ]
     },
     "execution_count": 38,
     "metadata": {},
     "output_type": "execute_result"
    }
   ],
   "source": [
    "R_1 = np.delete(R,[3,4],1)\n",
    "R_1"
   ]
  },
  {
   "cell_type": "code",
   "execution_count": 39,
   "metadata": {},
   "outputs": [
    {
     "name": "stdout",
     "output_type": "stream",
     "text": [
      "[[0.08347245]\n",
      " [0.18864775]\n",
      " [0.21535893]]\n"
     ]
    }
   ],
   "source": [
    "x_1 = linalg.solve(R_1, Q.T @ b)\n",
    "print(x_1)"
   ]
  },
  {
   "cell_type": "code",
   "execution_count": 40,
   "metadata": {},
   "outputs": [
    {
     "name": "stdout",
     "output_type": "stream",
     "text": [
      "x is\n",
      "[[ 0.06524547]\n",
      " [ 0.18644102]\n",
      " [ 0.18728143]\n",
      " [-0.02279076]\n",
      " [ 0.01350755]]\n"
     ]
    },
    {
     "name": "stderr",
     "output_type": "stream",
     "text": [
      "/opt/anaconda3/lib/python3.7/site-packages/ipykernel_launcher.py:16: LinAlgWarning: Ill-conditioned matrix (rcond=4.18316e-18): result may not be accurate.\n",
      "  app.launch_new_instance()\n"
     ]
    }
   ],
   "source": [
    "#this is the case that i cannot solve Rx=Q_tranposexb or ATx=b or \n",
    "#then i apply the least square approach to solve it.\n",
    "#Rx=QTb\n",
    "\n",
    "#RTRx=RTQTB\n",
    "\n",
    "#RTR X = ATb\n",
    "\n",
    "A_trans = A.transpose()\n",
    "\n",
    "z = np.dot(A_trans, b) \n",
    "\n",
    "R_trans = R.transpose()\n",
    "\n",
    "y = np.dot(R_trans,R)\n",
    "\n",
    "x = linalg.solve(y, z)\n",
    "\n",
    "print(\"x is\")\n",
    "print(x)"
   ]
  },
  {
   "cell_type": "code",
   "execution_count": 11,
   "metadata": {},
   "outputs": [],
   "source": [
    "#Compute the $||A-QR||_2$"
   ]
  },
  {
   "cell_type": "code",
   "execution_count": 12,
   "metadata": {},
   "outputs": [
    {
     "data": {
      "text/plain": [
       "1.4743828647775484e-14"
      ]
     },
     "execution_count": 12,
     "metadata": {},
     "output_type": "execute_result"
    }
   ],
   "source": [
    "linalg.norm(A-np.dot(Q,R))"
   ]
  },
  {
   "cell_type": "code",
   "execution_count": 13,
   "metadata": {},
   "outputs": [],
   "source": [
    "#Q2 Find the pseudo-inverse of A and use it to solve: Ax=b"
   ]
  },
  {
   "cell_type": "code",
   "execution_count": 14,
   "metadata": {},
   "outputs": [],
   "source": [
    "#In order to find pseudo-inverse of A or A+, I would start with SVD then find it."
   ]
  },
  {
   "cell_type": "code",
   "execution_count": 21,
   "metadata": {},
   "outputs": [],
   "source": [
    "from numpy import array\n",
    "from numpy.linalg import eig\n",
    "from scipy.linalg import svd\n",
    "from numpy import diag\n",
    "from numpy import dot\n",
    "from numpy import zeros\n",
    "import scipy as sp"
   ]
  },
  {
   "cell_type": "code",
   "execution_count": 29,
   "metadata": {},
   "outputs": [
    {
     "name": "stdout",
     "output_type": "stream",
     "text": [
      "Original (m x n) A Matrix\n",
      "[[ 1  6 -1  4  7]\n",
      " [-7  0 12 -8  2]\n",
      " [14  4  5  3 35]]\n",
      " ------------- \n",
      "(m x m) U Matrix\n",
      "[[-1.99151775e-01  1.63815921e-01 -9.66179546e-01]\n",
      " [-3.71281490e-04 -9.85941570e-01 -1.67090046e-01]\n",
      " [-9.79968588e-01 -3.29175547e-02  1.96412835e-01]]\n",
      " ------------- \n",
      "(m x n) Singular Values in Vector Form\n",
      "[[39.11441663  0.          0.          0.          0.        ]\n",
      " [ 0.         16.35281964  0.          0.          0.        ]\n",
      " [ 0.          0.          6.1357723   0.          0.        ]]\n",
      " ------------- \n",
      "(n x n) V^T Matrix\n",
      "[[-0.35577964 -0.1307647  -0.12029188 -0.09545183 -0.91254603]\n",
      " [ 0.40387904  0.05205373 -0.74358446  0.51636621 -0.12091408]\n",
      " [ 0.48131357 -0.81675553 -0.00926319 -0.31597641 -0.03634224]\n",
      " [-0.14922608 -0.39711588  0.44337706  0.78916169 -0.02590691]\n",
      " [-0.67555266 -0.39420856 -0.48573964 -0.04046751  0.38813349]]\n"
     ]
    }
   ],
   "source": [
    "print(\"Original (m x n) A Matrix\")\n",
    "print(A)\n",
    "print(\" ------------- \")\n",
    "\n",
    "# Perform Singular Value Decomposition\n",
    "U, Sigma, V = np.linalg.svd(A, full_matrices= True)\n",
    "Sigma =sp.linalg.diagsvd(Sigma,3,5)\n",
    "#generate \n",
    "print(\"(m x m) U Matrix\")\n",
    "print(U)\n",
    "print(\" ------------- \")\n",
    "print(\"(m x n) Singular Values in Vector Form\")\n",
    "print(Sigma)\n",
    "print(\" ------------- \")\n",
    "print(\"(n x n) V^T Matrix\")\n",
    "print(V)"
   ]
  },
  {
   "cell_type": "code",
   "execution_count": 24,
   "metadata": {},
   "outputs": [],
   "source": [
    "#Now i use SVD to find pseudo-inverse"
   ]
  },
  {
   "cell_type": "code",
   "execution_count": 31,
   "metadata": {},
   "outputs": [
    {
     "name": "stdout",
     "output_type": "stream",
     "text": [
      "[[ 1.00000000e+00 -7.00000000e+00  1.40000000e+01]\n",
      " [ 6.00000000e+00  1.44328993e-15  4.00000000e+00]\n",
      " [-1.00000000e+00  1.20000000e+01  5.00000000e+00]\n",
      " [ 4.00000000e+00 -8.00000000e+00  3.00000000e+00]\n",
      " [ 7.00000000e+00  2.00000000e+00  3.50000000e+01]]\n"
     ]
    }
   ],
   "source": [
    "Ainv = np.dot(V.transpose(), np.dot(Sigma.transpose(), U.transpose()))\n",
    "print(Ainv)"
   ]
  },
  {
   "cell_type": "code",
   "execution_count": 76,
   "metadata": {},
   "outputs": [],
   "source": [
    "#I think because of Sigma value has been reduced by Python \n",
    "#then i have to use a inv in numpy to solve it."
   ]
  },
  {
   "cell_type": "code",
   "execution_count": 32,
   "metadata": {},
   "outputs": [
    {
     "name": "stdout",
     "output_type": "stream",
     "text": [
      "The Pseudo-inverse of A is \n",
      "[[-0.06993348 -0.03745442  0.02350805]\n",
      " [ 0.12979901  0.0191048  -0.02297386]\n",
      " [-0.00537782  0.04508547  0.00421406]\n",
      " [ 0.05541449 -0.02252706 -0.00876274]\n",
      " [ 0.00915767  0.00828847  0.02194287]]\n"
     ]
    },
    {
     "data": {
      "text/plain": [
       "array([[ 1.00000000e+00, -2.01227923e-16,  2.25514052e-16],\n",
       "       [-4.85722573e-17,  1.00000000e+00,  7.63278329e-17],\n",
       "       [-1.28369537e-16, -3.81639165e-16,  1.00000000e+00]])"
      ]
     },
     "execution_count": 32,
     "metadata": {},
     "output_type": "execute_result"
    }
   ],
   "source": [
    "Ainv = np.linalg.pinv(A)\n",
    "print(\"The Pseudo-inverse of A is \")\n",
    "print(Ainv)\n",
    "np.dot(A,Ainv)"
   ]
  },
  {
   "cell_type": "code",
   "execution_count": 33,
   "metadata": {},
   "outputs": [],
   "source": [
    "#Use The Pseudo-inverse of A to solve Ax=b"
   ]
  },
  {
   "cell_type": "code",
   "execution_count": 34,
   "metadata": {},
   "outputs": [
    {
     "name": "stdout",
     "output_type": "stream",
     "text": [
      "[[-0.07431816]\n",
      " [ 0.09908703]\n",
      " [ 0.09743531]\n",
      " [-0.01592783]\n",
      " [ 0.09156323]]\n"
     ]
    }
   ],
   "source": [
    "x = Ainv @ b\n",
    "print(x)"
   ]
  },
  {
   "cell_type": "code",
   "execution_count": null,
   "metadata": {},
   "outputs": [],
   "source": []
  },
  {
   "cell_type": "code",
   "execution_count": 101,
   "metadata": {},
   "outputs": [],
   "source": [
    "#Q3 Compute SVD of A and Ainv"
   ]
  },
  {
   "cell_type": "code",
   "execution_count": 102,
   "metadata": {},
   "outputs": [],
   "source": [
    "#Let start with A"
   ]
  },
  {
   "cell_type": "code",
   "execution_count": 103,
   "metadata": {},
   "outputs": [
    {
     "name": "stdout",
     "output_type": "stream",
     "text": [
      "Original (m x n) A Matrix\n",
      "[[ 1  6 -1  4  7]\n",
      " [-7  0 12 -8  2]\n",
      " [14  4  5  3 35]]\n",
      " ------------- \n",
      "(m x m) U Matrix\n",
      "[[-1.99151775e-01  1.63815921e-01 -9.66179546e-01]\n",
      " [-3.71281490e-04 -9.85941570e-01 -1.67090046e-01]\n",
      " [-9.79968588e-01 -3.29175547e-02  1.96412835e-01]]\n",
      " ------------- \n",
      "(m x n) Singular Values in Vector Form\n",
      "[[39.11441663  0.          0.        ]\n",
      " [ 0.         16.35281964  0.        ]\n",
      " [ 0.          0.          6.1357723 ]]\n",
      " ------------- \n",
      "(n x n) V^T Matrix\n",
      "[[-0.35577964 -0.1307647  -0.12029188 -0.09545183 -0.91254603]\n",
      " [ 0.40387904  0.05205373 -0.74358446  0.51636621 -0.12091408]\n",
      " [ 0.48131357 -0.81675553 -0.00926319 -0.31597641 -0.03634224]]\n"
     ]
    }
   ],
   "source": [
    "print(\"Original (m x n) A Matrix\")\n",
    "print(A)\n",
    "print(\" ------------- \")\n",
    "\n",
    "# Perform Singular Value Decomposition\n",
    "U, Sigma, V = np.linalg.svd(A, full_matrices=False)\n",
    "Sigma =np.diag(Sigma)\n",
    "\n",
    "print(\"(m x m) U Matrix\")\n",
    "print(U)\n",
    "print(\" ------------- \")\n",
    "print(\"(m x n) Singular Values in Vector Form\")\n",
    "print(Sigma)\n",
    "print(\" ------------- \")\n",
    "print(\"(n x n) V^T Matrix\")\n",
    "print(V)"
   ]
  },
  {
   "cell_type": "code",
   "execution_count": 104,
   "metadata": {},
   "outputs": [],
   "source": [
    "#Then with Ainv"
   ]
  },
  {
   "cell_type": "code",
   "execution_count": 112,
   "metadata": {},
   "outputs": [
    {
     "name": "stdout",
     "output_type": "stream",
     "text": [
      "The Pseudo-inverse of A is \n",
      "Original (m x n) A Matrix\n",
      "[[-0.06993348 -0.03745442  0.02350805]\n",
      " [ 0.12979901  0.0191048  -0.02297386]\n",
      " [-0.00537782  0.04508547  0.00421406]\n",
      " [ 0.05541449 -0.02252706 -0.00876274]\n",
      " [ 0.00915767  0.00828847  0.02194287]]\n",
      " ------------- \n",
      "(m x m) U Matrix\n",
      "[[-0.48131357  0.40387904 -0.35577964]\n",
      " [ 0.81675553  0.05205373 -0.1307647 ]\n",
      " [ 0.00926319 -0.74358446 -0.12029188]\n",
      " [ 0.31597641  0.51636621 -0.09545183]\n",
      " [ 0.03634224 -0.12091408 -0.91254603]]\n",
      " ------------- \n",
      "(m x n) Singular Values in Vector Form\n",
      "[[0.16297867 0.         0.        ]\n",
      " [0.         0.06115153 0.        ]\n",
      " [0.         0.         0.02556602]]\n",
      " ------------- \n",
      "(n x n) V^T Matrix\n",
      "[[ 9.66179546e-01  1.67090046e-01 -1.96412835e-01]\n",
      " [ 1.63815921e-01 -9.85941570e-01 -3.29175547e-02]\n",
      " [-1.99151775e-01 -3.71281490e-04 -9.79968588e-01]]\n"
     ]
    }
   ],
   "source": [
    "Ainv = np.linalg.pinv(A)\n",
    "print(\"The Pseudo-inverse of A is \")\n",
    "print(\"Original (m x n) A Matrix\")\n",
    "print(Ainv)\n",
    "print(\" ------------- \")\n",
    "\n",
    "# Perform Singular Value Decomposition\n",
    "U, Sigma, V = np.linalg.svd(Ainv, full_matrices=False)\n",
    "Sigma =np.diag(Sigma)\n",
    "\n",
    "print(\"(m x m) U Matrix\")\n",
    "print(U)\n",
    "print(\" ------------- \")\n",
    "print(\"(m x n) Singular Values in Vector Form\")\n",
    "print(Sigma)\n",
    "print(\" ------------- \")\n",
    "print(\"(n x n) V^T Matrix\")\n",
    "print(V)"
   ]
  },
  {
   "cell_type": "code",
   "execution_count": 113,
   "metadata": {},
   "outputs": [],
   "source": [
    "#Q4 Compute the solution of $A^TAx=A^Tb$ using Cholesky factorization and QR factorization."
   ]
  },
  {
   "cell_type": "code",
   "execution_count": 114,
   "metadata": {},
   "outputs": [],
   "source": [
    "#Let's compute x by Cholesky factorization."
   ]
  },
  {
   "cell_type": "code",
   "execution_count": 115,
   "metadata": {},
   "outputs": [],
   "source": [
    "#𝐴𝑇𝐴𝑥=𝐴𝑇𝑏  <=>  𝐿𝐿𝑇𝑥=𝐴𝑇𝑏 \n",
    "#let's find L first"
   ]
  },
  {
   "cell_type": "code",
   "execution_count": 116,
   "metadata": {},
   "outputs": [
    {
     "name": "stdout",
     "output_type": "stream",
     "text": [
      "[[ 1.56843871e+01  0.00000000e+00  0.00000000e+00  0.00000000e+00\n",
      "   0.00000000e+00]\n",
      " [ 3.95297562e+00  6.03108479e+00  0.00000000e+00  0.00000000e+00\n",
      "   0.00000000e+00]\n",
      " [-9.56365070e-01  2.94814091e+00  1.26646686e+01  0.00000000e+00\n",
      "   0.00000000e+00]\n",
      " [ 6.50328247e+00  1.70660558e+00 -6.61776507e+00  7.84432161e-08\n",
      "   0.00000000e+00]\n",
      " [ 3.07949552e+01  9.99294402e+00  1.51595449e+01  4.57528584e-08\n",
      "   3.37174788e-07]]\n"
     ]
    }
   ],
   "source": [
    "L= np.linalg.cholesky(np.dot(A.T,A))\n",
    "print(L)"
   ]
  },
  {
   "cell_type": "code",
   "execution_count": 118,
   "metadata": {},
   "outputs": [],
   "source": [
    "#𝐿𝐿𝑇𝑥=𝐴𝑇𝑏  <=> Ly=𝐴𝑇𝑏 with y =𝐿𝑇𝑥\n",
    "#now I find y"
   ]
  },
  {
   "cell_type": "code",
   "execution_count": 119,
   "metadata": {},
   "outputs": [
    {
     "name": "stdout",
     "output_type": "stream",
     "text": [
      "[[ 1.84897247e+00]\n",
      " [ 1.77265903e+00]\n",
      " [ 2.72744950e+00]\n",
      " [-5.48316920e-08]\n",
      " [ 4.95653201e-08]]\n"
     ]
    }
   ],
   "source": [
    "y= np.linalg.solve(L,np.dot(A.T,b))\n",
    "print(y)"
   ]
  },
  {
   "cell_type": "code",
   "execution_count": 120,
   "metadata": {},
   "outputs": [],
   "source": [
    "#now it is easy to solve x since y= LTx"
   ]
  },
  {
   "cell_type": "code",
   "execution_count": 121,
   "metadata": {},
   "outputs": [],
   "source": [
    "x =np.linalg.solve(L.T,y)"
   ]
  },
  {
   "cell_type": "code",
   "execution_count": 122,
   "metadata": {},
   "outputs": [
    {
     "name": "stdout",
     "output_type": "stream",
     "text": [
      "[[ 0.01771853]\n",
      " [ 0.45359452]\n",
      " [-0.37065713]\n",
      " [-0.78473895]\n",
      " [ 0.14700186]]\n"
     ]
    }
   ],
   "source": [
    "print(x)"
   ]
  },
  {
   "cell_type": "code",
   "execution_count": 123,
   "metadata": {},
   "outputs": [],
   "source": [
    "[[-0.025794  ]\n",
    " [ 0.16033276]\n",
    " [ 0.07383628]\n",
    " [-0.0977903 ]\n",
    " [ 0.07554213]]\n",
    "##Let's compute x by QR-factorization."
   ]
  },
  {
   "cell_type": "code",
   "execution_count": 125,
   "metadata": {},
   "outputs": [
    {
     "name": "stdout",
     "output_type": "stream",
     "text": [
      "[[ 246   62  -15  102  483]\n",
      " [  62   52   14   36  182]\n",
      " [ -15   14  170  -85  192]\n",
      " [ 102   36  -85   89  117]\n",
      " [ 483  182  192  117 1278]]\n"
     ]
    }
   ],
   "source": [
    "#Set up new A and new b. that is easier to use QR\n",
    "A_new = np.dot(A.T,A)\n",
    "print(A_new)"
   ]
  },
  {
   "cell_type": "code",
   "execution_count": 127,
   "metadata": {},
   "outputs": [
    {
     "name": "stdout",
     "output_type": "stream",
     "text": [
      "[[ 29]\n",
      " [ 18]\n",
      " [ 38]\n",
      " [ -3]\n",
      " [116]]\n"
     ]
    }
   ],
   "source": [
    "b_new = np.dot(A.T,b)\n",
    "print(b_new)"
   ]
  },
  {
   "cell_type": "code",
   "execution_count": 128,
   "metadata": {},
   "outputs": [
    {
     "name": "stdout",
     "output_type": "stream",
     "text": [
      "Matrix Q (m x m)\n",
      "[[-0.44306132  0.57008156  0.00799184  0.0055759  -0.69181553]\n",
      " [-0.11166586 -0.66463923  0.48237332  0.30652208 -0.46812992]\n",
      " [ 0.02701593 -0.42988672 -0.61801402 -0.53464259 -0.38299284]\n",
      " [-0.18370835  0.00764685  0.58461866 -0.78034216  0.12441823]\n",
      " [-0.86991309 -0.22000147 -0.20864276  0.10600253  0.37427562]]\n",
      " ---------- \n",
      "Matrix Q^T Q = I (m x m)\n",
      "[[ 1.00000000e+00 -1.91247376e-16 -2.51844463e-17  1.55400395e-18\n",
      "   3.01628386e-16]\n",
      " [-1.91247376e-16  1.00000000e+00  8.07624200e-17  1.21841162e-16\n",
      "  -2.17764120e-16]\n",
      " [-2.51844463e-17  8.07624200e-17  1.00000000e+00 -2.86798369e-17\n",
      "   1.31958159e-16]\n",
      " [ 1.55400395e-18  1.21841162e-16 -2.86798369e-17  1.00000000e+00\n",
      "   4.80712453e-17]\n",
      " [ 3.01628386e-16 -2.17764120e-16  1.31958159e-16  4.80712453e-17\n",
      "   1.00000000e+00]]\n",
      " ---------- \n",
      "Matrix R (m x n)\n",
      "[[-5.55227881e+02 -1.97835886e+02 -1.41732796e+02 -1.69638455e+02\n",
      "  -1.36237755e+03]\n",
      " [ 0.00000000e+00 -4.49995785e+01 -1.33827180e+02  4.57020754e+01\n",
      "  -2.08420396e+02]\n",
      " [ 0.00000000e+00  0.00000000e+00 -1.88181031e+02  9.83316574e+01\n",
      "  -2.25251752e+02]\n",
      " [ 0.00000000e+00  0.00000000e+00  0.00000000e+00 -1.00388882e-14\n",
      "  -2.10786828e-14]\n",
      " [ 0.00000000e+00  0.00000000e+00  0.00000000e+00  0.00000000e+00\n",
      "  -2.11633055e-13]]\n",
      " ---------- \n"
     ]
    }
   ],
   "source": [
    "Q, R = qr(A_new, 'complete')\n",
    "print(\"Matrix Q (m x m)\")\n",
    "print(Q)\n",
    "print(\" ---------- \")\n",
    "print(\"Matrix Q^T Q = I (m x m)\")\n",
    "print(Q.T.dot(Q))\n",
    "print(\" ---------- \")\n",
    "print(\"Matrix R (m x n)\")\n",
    "print(R)\n",
    "print(\" ---------- \")"
   ]
  },
  {
   "cell_type": "code",
   "execution_count": 130,
   "metadata": {},
   "outputs": [
    {
     "name": "stdout",
     "output_type": "stream",
     "text": [
      "[[-0.025794  ]\n",
      " [ 0.16033276]\n",
      " [ 0.07383628]\n",
      " [-0.0977903 ]\n",
      " [ 0.07554213]]\n"
     ]
    }
   ],
   "source": [
    "x = np.linalg.solve(R,np.dot(Q.T,b_new))\n",
    "print(x)"
   ]
  },
  {
   "cell_type": "code",
   "execution_count": 143,
   "metadata": {},
   "outputs": [],
   "source": [
    "#Q5 Find PCA of A"
   ]
  },
  {
   "cell_type": "code",
   "execution_count": 144,
   "metadata": {},
   "outputs": [],
   "source": [
    "from numpy import array\n",
    "from numpy import mean\n",
    "from numpy import cov\n",
    "from numpy.linalg import eig\n",
    "from scipy.linalg import svd"
   ]
  },
  {
   "cell_type": "code",
   "execution_count": 146,
   "metadata": {},
   "outputs": [
    {
     "name": "stdout",
     "output_type": "stream",
     "text": [
      "Original (m x n) A Matrix\n",
      "[[ 1  6 -1  4  7]\n",
      " [-7  0 12 -8  2]\n",
      " [14  4  5  3 35]]\n",
      " ------------- \n",
      "M Vector of Column Means\n",
      "[ 3.4 -0.2 12.2]\n",
      " ------------- \n",
      "Centered (m x n) Matrix C from A subtract M\n",
      "[[-2.4  2.6 -4.4  0.6  3.6]\n",
      " [-6.8  0.2 12.2 -7.8  2.2]\n",
      " [ 1.8 -8.2 -7.2 -9.2 22.8]]\n",
      " ------------- \n",
      "Covariance Matrix [cov(C.T)] of the Transpose of Centered Matrix C\n",
      "[[ 11.3   -8.4   20.65]\n",
      " [ -8.4   65.2    5.05]\n",
      " [ 20.65   5.05 181.7 ]]\n",
      " ------------- \n",
      "Covariance Matrix of the Transpose of Centered Matrix C\n",
      "[[ 11.3   -8.4   20.65]\n",
      " [ -8.4   65.2    5.05]\n",
      " [ 20.65   5.05 181.7 ]]\n",
      " ------------- \n",
      "From SVD --> U Matrix\n",
      "[[ 0.11683256 -0.15615305 -0.98079885]\n",
      " [ 0.03384562  0.98761442 -0.15320648]\n",
      " [ 0.99257475 -0.01529624  0.12067062]]\n",
      " ------------- \n",
      "From SVD --> Singular Values in VECTOR FORM\n",
      "[184.30283955  66.44992064   7.44723981]\n",
      " ------------- \n",
      "From SVD --> V^T Matrix\n",
      "[[ 0.11683256  0.03384562  0.99257475]\n",
      " [-0.15615305  0.98761442 -0.01529624]\n",
      " [-0.98079885 -0.15320648  0.12067062]]\n",
      " ------------- \n",
      "EigenValues FROM eig(Cov_Mat)\n",
      "[184.30283955   7.44723981  66.44992064]\n",
      " ------------- \n",
      "EigenVectors FROM eig(Cov_Mat)\n",
      "[[ 0.11683256 -0.98079885 -0.15615305]\n",
      " [ 0.03384562 -0.15320648  0.98761442]\n",
      " [ 0.99257475  0.12067062 -0.01529624]]\n",
      " ------------- \n",
      "Using Eig_Vectors Projected Original Centered Data in Matrix C\n",
      "[[ 1.2760862  -7.82857913 -7.24768494 -9.32558393 23.12576179]\n",
      " [ 3.6129284  -3.57021739  1.57756742 -0.5036385  -1.11663992]\n",
      " [-6.36854398 -0.08304592 12.84610229 -7.65635897  1.26184658]]\n",
      " ------------- \n",
      "Using U Singular Vectors Projected Original Centered Data in Matrix C\n",
      "[[13.7759597   4.67129437  5.25218855  3.17428957 35.62563529]\n",
      " [-7.28360131 -0.99810325 11.93104496 -8.5714163   0.34678925]\n",
      " [ 1.7810352  -5.40211059 -0.25432577 -2.3355317  -2.94853312]]\n",
      " ------------- \n"
     ]
    }
   ],
   "source": [
    "print(\"Original (m x n) A Matrix\")\n",
    "print(A)\n",
    "print(\" ------------- \")\n",
    "m = 3; n= 5\n",
    "# Column Means\n",
    "M = mean(A.T, axis = 0)\n",
    "print(\"M Vector of Column Means\")\n",
    "print(M)\n",
    "print(\" ------------- \")\n",
    "#\n",
    "# Center Columns by subtracting Column Means\n",
    "C = A.T - M\n",
    "print(\"Centered (m x n) Matrix C from A subtract M\")\n",
    "print(C.T)\n",
    "print(\" ------------- \")\n",
    "#\n",
    "# Compute Covariance Matrix of the Transpose of Centered Matrix C\n",
    "V = cov(C.T)\n",
    "print(\"Covariance Matrix [cov(C.T)] of the Transpose of Centered Matrix C\")\n",
    "print(V)\n",
    "print(\" ------------- \")\n",
    "#\n",
    "Cov_Mat = C.T.dot(C)/(n - 1.)\n",
    "print(\"Covariance Matrix of the Transpose of Centered Matrix C\")\n",
    "print(Cov_Mat)\n",
    "print(\" ------------- \")\n",
    "#\n",
    "#Perform the SVD of A A^T\n",
    "U, Sigma, V = svd(V)\n",
    "print(\"From SVD --> U Matrix\")\n",
    "print(U)\n",
    "print(\" ------------- \")\n",
    "print(\"From SVD --> Singular Values in VECTOR FORM\")\n",
    "print(Sigma)\n",
    "print(\" ------------- \")\n",
    "print(\"From SVD --> V^T Matrix\")\n",
    "print(V)\n",
    "print(\" ------------- \")\n",
    "#\n",
    "# Eigen_Factorization of Covariance Matrix\n",
    "Eig_Values, Eig_Vectors = eig(Cov_Mat)\n",
    "print(\"EigenValues FROM eig(Cov_Mat)\")\n",
    "print(Eig_Values)\n",
    "print(\" ------------- \")\n",
    "print(\"EigenVectors FROM eig(Cov_Mat)\")\n",
    "print(Eig_Vectors)\n",
    "print(\" ------------- \")\n",
    "#\n",
    "# Project Data\n",
    "P = Eig_Vectors.T.dot(C.T)\n",
    "print(\"Using Eig_Vectors Projected Original Centered Data in Matrix C\")\n",
    "print(P)\n",
    "print(\" ------------- \")\n",
    "#\n",
    "# Project Data\n",
    "P = U.T.dot(A)\n",
    "print(\"Using U Singular Vectors Projected Original Centered Data in Matrix C\")\n",
    "print(P)\n",
    "print(\" ------------- \")"
   ]
  },
  {
   "cell_type": "code",
   "execution_count": null,
   "metadata": {},
   "outputs": [],
   "source": []
  }
 ],
 "metadata": {
  "kernelspec": {
   "display_name": "Python 3",
   "language": "python",
   "name": "python3"
  },
  "language_info": {
   "codemirror_mode": {
    "name": "ipython",
    "version": 3
   },
   "file_extension": ".py",
   "mimetype": "text/x-python",
   "name": "python",
   "nbconvert_exporter": "python",
   "pygments_lexer": "ipython3",
   "version": "3.7.4"
  }
 },
 "nbformat": 4,
 "nbformat_minor": 2
}
