{
 "cells": [
  {
   "cell_type": "code",
   "execution_count": 3,
   "metadata": {},
   "outputs": [],
   "source": [
    "#MATH 3423 Final Test"
   ]
  },
  {
   "cell_type": "code",
   "execution_count": 4,
   "metadata": {},
   "outputs": [],
   "source": [
    "#Student Name: Huy Huynh"
   ]
  },
  {
   "cell_type": "code",
   "execution_count": 6,
   "metadata": {},
   "outputs": [],
   "source": [
    "from scipy import optimize"
   ]
  },
  {
   "cell_type": "code",
   "execution_count": 5,
   "metadata": {},
   "outputs": [],
   "source": [
    "#Problem 2:"
   ]
  },
  {
   "cell_type": "code",
   "execution_count": 7,
   "metadata": {},
   "outputs": [],
   "source": [
    "def F_2(x):\n",
    "    return (3 - x[0])**2 + 150*((x[1] - x[0]**2))**2"
   ]
  },
  {
   "cell_type": "code",
   "execution_count": 8,
   "metadata": {},
   "outputs": [],
   "source": [
    "# I use Powell Method for minimizing this function"
   ]
  },
  {
   "cell_type": "code",
   "execution_count": 9,
   "metadata": {},
   "outputs": [
    {
     "data": {
      "text/plain": [
       "   direc: array([[8.92924215e-03, 5.44123217e-02],\n",
       "       [9.83352979e-07, 5.83284984e-06]])\n",
       "     fun: 2.6271040296122746e-27\n",
       " message: 'Optimization terminated successfully.'\n",
       "    nfev: 1085\n",
       "     nit: 37\n",
       "  status: 0\n",
       " success: True\n",
       "       x: array([3., 9.])"
      ]
     },
     "execution_count": 9,
     "metadata": {},
     "output_type": "execute_result"
    }
   ],
   "source": [
    "optimize.minimize(F_2, [-1,1], method='Powell')"
   ]
  },
  {
   "cell_type": "code",
   "execution_count": null,
   "metadata": {},
   "outputs": [],
   "source": [
    "# I use BFGS Method for minimizing this function"
   ]
  },
  {
   "cell_type": "code",
   "execution_count": 11,
   "metadata": {},
   "outputs": [
    {
     "data": {
      "text/plain": [
       "      fun: 2.201966360217826e-09\n",
       " hess_inv: array([[ 0.49455093,  2.96812896],\n",
       "       [ 2.96812896, 17.81690262]])\n",
       "      jac: array([ 5.96996554e-06, -9.88404558e-07])\n",
       "  message: 'Optimization terminated successfully.'\n",
       "     nfev: 288\n",
       "      nit: 54\n",
       "     njev: 72\n",
       "   status: 0\n",
       "  success: True\n",
       "        x: array([2.99995308, 8.99971844])"
      ]
     },
     "execution_count": 11,
     "metadata": {},
     "output_type": "execute_result"
    }
   ],
   "source": [
    "optimize.minimize(F_2, [-1,1], method =  'BFGS')"
   ]
  },
  {
   "cell_type": "code",
   "execution_count": 12,
   "metadata": {},
   "outputs": [],
   "source": [
    "#Problem 3"
   ]
  },
  {
   "cell_type": "code",
   "execution_count": 17,
   "metadata": {},
   "outputs": [],
   "source": [
    "import numpy as np\n",
    "from numpy.linalg import qr\n",
    "import scipy.linalg as linalg\n",
    "from numpy.linalg import eig"
   ]
  },
  {
   "cell_type": "code",
   "execution_count": 19,
   "metadata": {},
   "outputs": [
    {
     "data": {
      "text/plain": [
       "array([[ 1, -1,  4],\n",
       "       [ 1,  4, -2],\n",
       "       [ 1,  4,  2],\n",
       "       [ 1, -1,  0]])"
      ]
     },
     "execution_count": 19,
     "metadata": {},
     "output_type": "execute_result"
    }
   ],
   "source": [
    "A = np.array([[1,-1,4],\n",
    "            [1,4,-2],\n",
    "            [1,4,2],\n",
    "            [1,-1,0]])\n",
    "A"
   ]
  },
  {
   "cell_type": "code",
   "execution_count": 20,
   "metadata": {},
   "outputs": [],
   "source": [
    "# Problem A. Find the QR Factorization of A"
   ]
  },
  {
   "cell_type": "code",
   "execution_count": 21,
   "metadata": {},
   "outputs": [
    {
     "name": "stdout",
     "output_type": "stream",
     "text": [
      "Matrix Q (m x m)\n",
      "[[-0.5  0.5 -0.5 -0.5]\n",
      " [-0.5 -0.5  0.5 -0.5]\n",
      " [-0.5 -0.5 -0.5  0.5]\n",
      " [-0.5  0.5  0.5  0.5]]\n",
      " ---------- \n",
      "Matrix Q^T Q = I (m x m)\n",
      "[[ 1.00000000e+00  2.77555756e-17  0.00000000e+00 -5.55111512e-17]\n",
      " [ 2.77555756e-17  1.00000000e+00  1.38777878e-16 -5.55111512e-17]\n",
      " [ 0.00000000e+00  1.38777878e-16  1.00000000e+00 -1.11022302e-16]\n",
      " [-5.55111512e-17 -5.55111512e-17 -1.11022302e-16  1.00000000e+00]]\n",
      " ---------- \n",
      "Matrix R (m x n)\n",
      "[[-2. -3. -2.]\n",
      " [ 0. -5.  2.]\n",
      " [ 0.  0. -4.]\n",
      " [ 0.  0.  0.]]\n",
      " ---------- \n"
     ]
    }
   ],
   "source": [
    "Q, R = qr(A, 'complete')\n",
    "print(\"Matrix Q (m x m)\")\n",
    "print(Q)\n",
    "print(\" ---------- \")\n",
    "print(\"Matrix Q^T Q = I (m x m)\")\n",
    "print(Q.T.dot(Q))\n",
    "print(\" ---------- \")\n",
    "print(\"Matrix R (m x n)\")\n",
    "print(R)\n",
    "print(\" ---------- \")"
   ]
  },
  {
   "cell_type": "code",
   "execution_count": 22,
   "metadata": {},
   "outputs": [],
   "source": [
    "# Problem B. Find SVD of A"
   ]
  },
  {
   "cell_type": "code",
   "execution_count": 23,
   "metadata": {},
   "outputs": [],
   "source": [
    "from numpy import array\n",
    "from numpy.linalg import eig\n",
    "from scipy.linalg import svd\n",
    "from numpy import diag\n",
    "from numpy import dot\n",
    "from numpy import zeros\n",
    "import scipy as sp"
   ]
  },
  {
   "cell_type": "code",
   "execution_count": 25,
   "metadata": {},
   "outputs": [
    {
     "name": "stdout",
     "output_type": "stream",
     "text": [
      "Original (m x n) A Matrix\n",
      "[[ 1 -1  4]\n",
      " [ 1  4 -2]\n",
      " [ 1  4  2]\n",
      " [ 1 -1  0]]\n",
      " ------------- \n",
      "(m x m) U Matrix\n",
      "[[-0.31327912  0.77156416  0.23779181 -0.5       ]\n",
      " [ 0.74808713 -0.14688895  0.41083973 -0.5       ]\n",
      " [ 0.56932221  0.61893411 -0.2068642   0.5       ]\n",
      " [-0.1345142   0.0057411   0.85549575  0.5       ]]\n",
      " ------------- \n",
      "(m x n) Singular Values in Vector Form\n",
      "[[6.00328467 0.         0.        ]\n",
      " [0.         4.91120619 0.        ]\n",
      " [0.         0.         1.35669707]\n",
      " [0.         0.         0.        ]]\n",
      " ------------- \n",
      "(n x n) V^T Matrix\n",
      "[[ 0.1448567   0.95238373 -0.26829418]\n",
      " [ 0.25438769  0.22619197  0.94027873]\n",
      " [ 0.95619216 -0.20445641 -0.20950928]]\n"
     ]
    }
   ],
   "source": [
    "print(\"Original (m x n) A Matrix\")\n",
    "print(A)\n",
    "print(\" ------------- \")\n",
    "\n",
    "# Perform Singular Value Decomposition\n",
    "U, Sigma, V = np.linalg.svd(A, full_matrices= True)\n",
    "Sigma =sp.linalg.diagsvd(Sigma,4,3)\n",
    "#generate \n",
    "print(\"(m x m) U Matrix\")\n",
    "print(U)\n",
    "print(\" ------------- \")\n",
    "print(\"(m x n) Singular Values in Vector Form\")\n",
    "print(Sigma)\n",
    "print(\" ------------- \")\n",
    "print(\"(n x n) V^T Matrix\")\n",
    "print(V)"
   ]
  },
  {
   "cell_type": "code",
   "execution_count": 26,
   "metadata": {},
   "outputs": [],
   "source": [
    "#Problem C. Use the SVD to find A+"
   ]
  },
  {
   "cell_type": "code",
   "execution_count": 33,
   "metadata": {},
   "outputs": [
    {
     "name": "stdout",
     "output_type": "stream",
     "text": [
      "The Pseudo-inverse of A is \n",
      "[[ 1.  1.  1.  1.]\n",
      " [-1.  4.  4. -1.]\n",
      " [ 4. -2.  2.  0.]]\n"
     ]
    }
   ],
   "source": [
    "Ainv = np.dot(V.transpose(), np.dot(Sigma.transpose(), U.transpose()))\n",
    "Ainv = np.round(Ainv)\n",
    "print(\"The Pseudo-inverse of A is \")\n",
    "print(Ainv)"
   ]
  },
  {
   "cell_type": "code",
   "execution_count": 35,
   "metadata": {},
   "outputs": [],
   "source": [
    "#Problem D. Reconstruct A from its SVD factory"
   ]
  },
  {
   "cell_type": "code",
   "execution_count": 37,
   "metadata": {},
   "outputs": [
    {
     "name": "stdout",
     "output_type": "stream",
     "text": [
      "Reconstructed Original (m x n) A Matrix From SVD Factors\n",
      "[[ 1. -1.  4.]\n",
      " [ 1.  4. -2.]\n",
      " [ 1.  4.  2.]\n",
      " [ 1. -1.  0.]]\n"
     ]
    }
   ],
   "source": [
    "print(\"Reconstructed Original (m x n) A Matrix From SVD Factors\")\n",
    "AA = U.dot(Sigma.dot(V))\n",
    "AA = np.round(AA)\n",
    "print(AA)"
   ]
  },
  {
   "cell_type": "code",
   "execution_count": 38,
   "metadata": {},
   "outputs": [],
   "source": [
    "#Problem E. Why the rank of A cannot be 4?"
   ]
  },
  {
   "cell_type": "code",
   "execution_count": 40,
   "metadata": {},
   "outputs": [],
   "source": [
    "#Answer: Because matrix A is 4x3, it has 3 NonZero Singular Values. As the result, the rank has to be 3 not 4"
   ]
  },
  {
   "cell_type": "code",
   "execution_count": 41,
   "metadata": {},
   "outputs": [],
   "source": [
    "#Problem F. Find the Eigen values/ Vectors of ATA"
   ]
  },
  {
   "cell_type": "code",
   "execution_count": 59,
   "metadata": {},
   "outputs": [
    {
     "name": "stdout",
     "output_type": "stream",
     "text": [
      "Original (m x m) ATA Matrix\n",
      "[[ 4  6  4]\n",
      " [ 6 34 -4]\n",
      " [ 4 -4 24]]\n",
      " ------------- \n",
      "EigenValues of ATA\n",
      "[ 1.84062693 24.11994626 36.03942681]\n",
      " ------------- \n",
      "EigenVectors of ATA\n",
      "[[-0.95619216  0.25438769 -0.1448567 ]\n",
      " [ 0.20445641  0.22619197 -0.95238373]\n",
      " [ 0.20950928  0.94027873  0.26829418]]\n",
      " ------------- \n"
     ]
    }
   ],
   "source": [
    "from numpy import array\n",
    "from numpy.linalg import eig\n",
    "ATA = A.T @ A\n",
    "print(\"Original (m x m) ATA Matrix\")\n",
    "print(ATA)\n",
    "print(\" ------------- \")\n",
    "# factor\n",
    "Eig_Values, Eig_Vectors = eig(ATA)\n",
    "#\n",
    "print(\"EigenValues of ATA\")\n",
    "print(Eig_Values)\n",
    "print(\" ------------- \")\n",
    "#\n",
    "print(\"EigenVectors of ATA\")\n",
    "print(Eig_Vectors)\n",
    "print(\" ------------- \")"
   ]
  },
  {
   "cell_type": "code",
   "execution_count": 44,
   "metadata": {},
   "outputs": [],
   "source": [
    "#Problem 4"
   ]
  },
  {
   "cell_type": "code",
   "execution_count": null,
   "metadata": {},
   "outputs": [],
   "source": [
    "#Problem A. Finf LU Factorization and solve Ax=b"
   ]
  },
  {
   "cell_type": "code",
   "execution_count": 46,
   "metadata": {},
   "outputs": [
    {
     "data": {
      "text/plain": [
       "array([[ 3, -1,  2],\n",
       "       [-6,  4, -5],\n",
       "       [ 9,  5,  6]])"
      ]
     },
     "execution_count": 46,
     "metadata": {},
     "output_type": "execute_result"
    }
   ],
   "source": [
    "A1=np.array([[ 3,-1,2],\n",
    "            [-6,4,-5],\n",
    "            [9,5,6]])\n",
    "A1"
   ]
  },
  {
   "cell_type": "code",
   "execution_count": 48,
   "metadata": {},
   "outputs": [
    {
     "data": {
      "text/plain": [
       "array([[ 6],\n",
       "       [-3],\n",
       "       [ 2]])"
      ]
     },
     "execution_count": 48,
     "metadata": {},
     "output_type": "execute_result"
    }
   ],
   "source": [
    "b=np.array([[ 6],[-3],[2]])\n",
    "b"
   ]
  },
  {
   "cell_type": "code",
   "execution_count": 53,
   "metadata": {},
   "outputs": [
    {
     "name": "stdout",
     "output_type": "stream",
     "text": [
      "Lower Triangular (n x n) L Matrix\n",
      "[[ 1.          0.          0.        ]\n",
      " [-0.66666667  1.          0.        ]\n",
      " [ 0.33333333 -0.36363636  1.        ]]\n",
      "Upper Triangular (n x n) U Matrix\n",
      "[[ 9.          5.          6.        ]\n",
      " [ 0.          7.33333333 -1.        ]\n",
      " [ 0.          0.         -0.36363636]]\n"
     ]
    }
   ],
   "source": [
    "# factorize\n",
    "from scipy.linalg import lu\n",
    "P, L, U = lu(A1)\n",
    "print(\"Lower Triangular (n x n) L Matrix\")\n",
    "print(L)\n",
    "print(\"Upper Triangular (n x n) U Matrix\")\n",
    "print(U)"
   ]
  },
  {
   "cell_type": "code",
   "execution_count": 56,
   "metadata": {},
   "outputs": [
    {
     "name": "stdout",
     "output_type": "stream",
     "text": [
      "The solution x is:\n",
      " [[ 1.33333333e+00]\n",
      " [-9.08364293e-17]\n",
      " [-1.00000000e+00]]\n"
     ]
    }
   ],
   "source": [
    "y = np.linalg.solve(L, b)\n",
    "x = np.linalg.solve(U,y)\n",
    "print(\"The solution x is:\\n\",x)"
   ]
  },
  {
   "cell_type": "code",
   "execution_count": 58,
   "metadata": {},
   "outputs": [],
   "source": [
    "# Problem B. Find the Eigenvalues of ATA"
   ]
  },
  {
   "cell_type": "code",
   "execution_count": 60,
   "metadata": {},
   "outputs": [
    {
     "name": "stdout",
     "output_type": "stream",
     "text": [
      "Original (m x m) A1TA1 Matrix\n",
      "[[126  18  90]\n",
      " [ 18  42   8]\n",
      " [ 90   8  65]]\n",
      " ------------- \n",
      "EigenValues of A1TA1\n",
      "[1.92993363e+02 7.47412194e-02 3.99318959e+01]\n",
      " ------------- \n",
      "EigenVectors of A1TA1\n",
      "[[ 0.80766702  0.58794668  0.04463948]\n",
      " [ 0.12679212 -0.09924161 -0.98695231]\n",
      " [ 0.57584524 -0.80278877  0.15470118]]\n",
      " ------------- \n"
     ]
    }
   ],
   "source": [
    "from numpy import array\n",
    "from numpy.linalg import eig\n",
    "A1TA1 = A1.T @ A1\n",
    "print(\"Original (m x m) A1TA1 Matrix\")\n",
    "print(A1TA1)\n",
    "print(\" ------------- \")\n",
    "# factor\n",
    "Eig_Values, Eig_Vectors = eig(A1TA1)\n",
    "#\n",
    "print(\"EigenValues of A1TA1\")\n",
    "print(Eig_Values)\n",
    "print(\" ------------- \")\n",
    "#\n",
    "print(\"EigenVectors of A1TA1\")\n",
    "print(Eig_Vectors)\n",
    "print(\" ------------- \")"
   ]
  },
  {
   "cell_type": "code",
   "execution_count": 61,
   "metadata": {},
   "outputs": [],
   "source": [
    "#Problem C. Find the Cholesky Factorization of A1TA1 and use it to solve A1TA1x=A1Tb"
   ]
  },
  {
   "cell_type": "code",
   "execution_count": 62,
   "metadata": {},
   "outputs": [],
   "source": [
    "#Let's compute x by Cholesky factorization."
   ]
  },
  {
   "cell_type": "code",
   "execution_count": 63,
   "metadata": {},
   "outputs": [],
   "source": [
    "#𝐴𝑇𝐴𝑥=𝐴𝑇𝑏  <=>  𝐿𝐿𝑇𝑥=𝐴𝑇𝑏 \n",
    "#let's find L first"
   ]
  },
  {
   "cell_type": "code",
   "execution_count": 64,
   "metadata": {},
   "outputs": [
    {
     "name": "stdout",
     "output_type": "stream",
     "text": [
      "[[11.22497216  0.          0.        ]\n",
      " [ 1.60356745  6.27921742  0.        ]\n",
      " [ 8.01783726 -0.77352678  0.34050261]]\n"
     ]
    }
   ],
   "source": [
    "L= np.linalg.cholesky(A1TA1)\n",
    "print(L)"
   ]
  },
  {
   "cell_type": "code",
   "execution_count": 65,
   "metadata": {},
   "outputs": [],
   "source": [
    "#𝐿𝐿𝑇𝑥=𝐴𝑇𝑏  <=> Ly=𝐴𝑇𝑏 with y =𝐿𝑇𝑥\n",
    "#now I find y"
   ]
  },
  {
   "cell_type": "code",
   "execution_count": 66,
   "metadata": {},
   "outputs": [
    {
     "name": "stdout",
     "output_type": "stream",
     "text": [
      "[[ 4.81070235]\n",
      " [-2.50258665]\n",
      " [-4.42653396]]\n"
     ]
    }
   ],
   "source": [
    "y= np.linalg.solve(L,np.dot(A1.T,b))\n",
    "print(y)"
   ]
  },
  {
   "cell_type": "code",
   "execution_count": 67,
   "metadata": {},
   "outputs": [],
   "source": [
    "#now it is easy to solve x since y= LTx"
   ]
  },
  {
   "cell_type": "code",
   "execution_count": 68,
   "metadata": {},
   "outputs": [],
   "source": [
    "x =np.linalg.solve(L.T,y)"
   ]
  },
  {
   "cell_type": "code",
   "execution_count": 69,
   "metadata": {},
   "outputs": [
    {
     "name": "stdout",
     "output_type": "stream",
     "text": [
      "The solution x is:\n",
      " [[ 10.]\n",
      " [ -2.]\n",
      " [-13.]]\n"
     ]
    }
   ],
   "source": [
    "print(\"The solution x is:\\n\",x)"
   ]
  },
  {
   "cell_type": "code",
   "execution_count": null,
   "metadata": {},
   "outputs": [],
   "source": []
  }
 ],
 "metadata": {
  "kernelspec": {
   "display_name": "Python 3",
   "language": "python",
   "name": "python3"
  },
  "language_info": {
   "codemirror_mode": {
    "name": "ipython",
    "version": 3
   },
   "file_extension": ".py",
   "mimetype": "text/x-python",
   "name": "python",
   "nbconvert_exporter": "python",
   "pygments_lexer": "ipython3",
   "version": "3.7.4"
  }
 },
 "nbformat": 4,
 "nbformat_minor": 2
}
