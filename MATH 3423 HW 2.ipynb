{
 "cells": [
  {
   "cell_type": "code",
   "execution_count": null,
   "metadata": {},
   "outputs": [],
   "source": [
    "MATH 3423 HW 2\n",
    "Student Name: Huy Huynh"
   ]
  },
  {
   "cell_type": "code",
   "execution_count": 2,
   "metadata": {},
   "outputs": [
    {
     "name": "stdout",
     "output_type": "stream",
     "text": [
      "[[  86.   25.  -58.  110.   67.   14.  -17.]\n",
      " [  25.  245.   44.  -61.   79.  -52.  -69.]\n",
      " [ -58.   44.  168. -160.   64.  144.   34.]\n",
      " [ 110.  -61. -160.  211.   11.  -52.  -18.]\n",
      " [  67.   79.   64.   11.  145.  136.    3.]\n",
      " [  14.  -52.  144.  -52.  136.  264.   70.]\n",
      " [ -17.  -69.   34.  -18.    3.   70.   34.]]\n",
      "[[0. 0. 0. 0. 0. 1. 0.]\n",
      " [0. 1. 0. 0. 0. 0. 0.]\n",
      " [0. 0. 0. 1. 0. 0. 0.]\n",
      " [1. 0. 0. 0. 0. 0. 0.]\n",
      " [0. 0. 0. 0. 1. 0. 0.]\n",
      " [0. 0. 1. 0. 0. 0. 0.]\n",
      " [0. 0. 0. 0. 0. 0. 1.]]\n",
      "[[ 1.          0.          0.          0.          0.          0.\n",
      "   0.        ]\n",
      " [ 0.22727273  1.          0.          0.          0.          0.\n",
      "   0.        ]\n",
      " [ 0.12727273 -0.17088674  1.          0.          0.          0.\n",
      "   0.        ]\n",
      " [-0.52727273  0.04572432  0.44897959  1.          0.          0.\n",
      "   0.        ]\n",
      " [ 0.60909091  0.44870939  0.70408163  0.10180994  1.          0.\n",
      "   0.        ]\n",
      " [ 0.78181818  0.28080773  0.25       -0.48208726 -0.06539852  1.\n",
      "   0.        ]\n",
      " [-0.15454545 -0.30296752  0.18877551  0.01649612 -0.08223446  0.02629584\n",
      "   1.        ]]\n",
      "[[ 1.10000000e+02 -6.10000000e+01 -1.60000000e+02  2.11000000e+02\n",
      "   1.10000000e+01 -5.20000000e+01 -1.80000000e+01]\n",
      " [ 0.00000000e+00  2.58863636e+02  8.03636364e+01 -1.08954545e+02\n",
      "   7.65000000e+01 -4.01818182e+01 -6.49090909e+01]\n",
      " [ 0.00000000e+00  0.00000000e+00  1.78096716e+02 -9.74734328e+01\n",
      "   1.47672836e+02  2.63751642e+02  6.11988060e+01]\n",
      " [ 0.00000000e+00  0.00000000e+00  0.00000000e+00 -1.64964113e-14\n",
      "  -1.11433846e-14 -7.82168928e-15  2.86844025e-16]\n",
      " [ 0.00000000e+00  0.00000000e+00  0.00000000e+00  0.00000000e+00\n",
      "   1.94704597e-14  4.52197850e-15  2.06513900e-15]\n",
      " [ 0.00000000e+00  0.00000000e+00  0.00000000e+00  0.00000000e+00\n",
      "   0.00000000e+00 -1.03652822e-14 -3.35712155e-15]\n",
      " [ 0.00000000e+00  0.00000000e+00  0.00000000e+00  0.00000000e+00\n",
      "   0.00000000e+00  0.00000000e+00  3.40865639e-15]]\n"
     ]
    },
    {
     "data": {
      "text/plain": [
       "array([[ 8.27379597e+14],\n",
       "       [ 8.19668273e+13],\n",
       "       [ 1.15020827e+15],\n",
       "       [ 3.40304375e+14],\n",
       "       [ 1.12967325e+14],\n",
       "       [-1.18966732e+15],\n",
       "       [ 2.04933447e+15]])"
      ]
     },
     "execution_count": 2,
     "metadata": {},
     "output_type": "execute_result"
    }
   ],
   "source": [
    "\n",
    "#Problem 1\n",
    "from numpy import array\n",
    "from scipy.linalg import lu \n",
    "import numpy as np\n",
    "import scipy.linalg as linalg\n",
    "A = np.array( [[ 7, 1, 6],\n",
    "            [ 9, 10, -8],\n",
    "            [ -8, 10, -2],\n",
    "            [ 9, -7, 9],\n",
    "            [ 3, 10, 6 ],\n",
    "            [ -8, 10, 10],\n",
    "            [ -5, 0, 3]],\n",
    "            dtype=float ) \n",
    "b = np.array( [[ 1],\n",
    "               [2], \n",
    "               [3], \n",
    "               [4], \n",
    "               [5], \n",
    "               [6], \n",
    "               [7] ], dtype=float )\n",
    "\n",
    "A_trans = A.transpose()\n",
    "\n",
    "B = np.dot(A,A_trans)\n",
    "\n",
    "print(B)\n",
    "\n",
    "P, L, U = lu(B) #if B matrix is not identity. then open it under P,L,U\n",
    "print(P)\n",
    "print(L)\n",
    "print(U)\n",
    "\n",
    "y = np.linalg.solve(L, b)\n",
    "y\n",
    "x = np.linalg.solve(U,y)\n",
    "x\n",
    "\n",
    "\n"
   ]
  },
  {
   "cell_type": "code",
   "execution_count": 3,
   "metadata": {},
   "outputs": [
    {
     "ename": "LinAlgError",
     "evalue": "Matrix is not positive definite",
     "output_type": "error",
     "traceback": [
      "\u001b[0;31m---------------------------------------------------------------------------\u001b[0m",
      "\u001b[0;31mLinAlgError\u001b[0m                               Traceback (most recent call last)",
      "\u001b[0;32m<ipython-input-3-bfae5b059b5f>\u001b[0m in \u001b[0;36m<module>\u001b[0;34m\u001b[0m\n\u001b[1;32m      3\u001b[0m \u001b[0;32mfrom\u001b[0m \u001b[0mnumpy\u001b[0m\u001b[0;34m.\u001b[0m\u001b[0mlinalg\u001b[0m \u001b[0;32mimport\u001b[0m \u001b[0mcholesky\u001b[0m\u001b[0;34m\u001b[0m\u001b[0;34m\u001b[0m\u001b[0m\n\u001b[1;32m      4\u001b[0m \u001b[0;34m\u001b[0m\u001b[0m\n\u001b[0;32m----> 5\u001b[0;31m \u001b[0mL\u001b[0m \u001b[0;34m=\u001b[0m \u001b[0mcholesky\u001b[0m\u001b[0;34m(\u001b[0m\u001b[0mB\u001b[0m\u001b[0;34m)\u001b[0m\u001b[0;34m\u001b[0m\u001b[0;34m\u001b[0m\u001b[0m\n\u001b[0m",
      "\u001b[0;32m<__array_function__ internals>\u001b[0m in \u001b[0;36mcholesky\u001b[0;34m(*args, **kwargs)\u001b[0m\n",
      "\u001b[0;32m/opt/anaconda3/lib/python3.7/site-packages/numpy/linalg/linalg.py\u001b[0m in \u001b[0;36mcholesky\u001b[0;34m(a)\u001b[0m\n\u001b[1;32m    757\u001b[0m     \u001b[0mt\u001b[0m\u001b[0;34m,\u001b[0m \u001b[0mresult_t\u001b[0m \u001b[0;34m=\u001b[0m \u001b[0m_commonType\u001b[0m\u001b[0;34m(\u001b[0m\u001b[0ma\u001b[0m\u001b[0;34m)\u001b[0m\u001b[0;34m\u001b[0m\u001b[0;34m\u001b[0m\u001b[0m\n\u001b[1;32m    758\u001b[0m     \u001b[0msignature\u001b[0m \u001b[0;34m=\u001b[0m \u001b[0;34m'D->D'\u001b[0m \u001b[0;32mif\u001b[0m \u001b[0misComplexType\u001b[0m\u001b[0;34m(\u001b[0m\u001b[0mt\u001b[0m\u001b[0;34m)\u001b[0m \u001b[0;32melse\u001b[0m \u001b[0;34m'd->d'\u001b[0m\u001b[0;34m\u001b[0m\u001b[0;34m\u001b[0m\u001b[0m\n\u001b[0;32m--> 759\u001b[0;31m     \u001b[0mr\u001b[0m \u001b[0;34m=\u001b[0m \u001b[0mgufunc\u001b[0m\u001b[0;34m(\u001b[0m\u001b[0ma\u001b[0m\u001b[0;34m,\u001b[0m \u001b[0msignature\u001b[0m\u001b[0;34m=\u001b[0m\u001b[0msignature\u001b[0m\u001b[0;34m,\u001b[0m \u001b[0mextobj\u001b[0m\u001b[0;34m=\u001b[0m\u001b[0mextobj\u001b[0m\u001b[0;34m)\u001b[0m\u001b[0;34m\u001b[0m\u001b[0;34m\u001b[0m\u001b[0m\n\u001b[0m\u001b[1;32m    760\u001b[0m     \u001b[0;32mreturn\u001b[0m \u001b[0mwrap\u001b[0m\u001b[0;34m(\u001b[0m\u001b[0mr\u001b[0m\u001b[0;34m.\u001b[0m\u001b[0mastype\u001b[0m\u001b[0;34m(\u001b[0m\u001b[0mresult_t\u001b[0m\u001b[0;34m,\u001b[0m \u001b[0mcopy\u001b[0m\u001b[0;34m=\u001b[0m\u001b[0;32mFalse\u001b[0m\u001b[0;34m)\u001b[0m\u001b[0;34m)\u001b[0m\u001b[0;34m\u001b[0m\u001b[0;34m\u001b[0m\u001b[0m\n\u001b[1;32m    761\u001b[0m \u001b[0;34m\u001b[0m\u001b[0m\n",
      "\u001b[0;32m/opt/anaconda3/lib/python3.7/site-packages/numpy/linalg/linalg.py\u001b[0m in \u001b[0;36m_raise_linalgerror_nonposdef\u001b[0;34m(err, flag)\u001b[0m\n\u001b[1;32m     98\u001b[0m \u001b[0;34m\u001b[0m\u001b[0m\n\u001b[1;32m     99\u001b[0m \u001b[0;32mdef\u001b[0m \u001b[0m_raise_linalgerror_nonposdef\u001b[0m\u001b[0;34m(\u001b[0m\u001b[0merr\u001b[0m\u001b[0;34m,\u001b[0m \u001b[0mflag\u001b[0m\u001b[0;34m)\u001b[0m\u001b[0;34m:\u001b[0m\u001b[0;34m\u001b[0m\u001b[0;34m\u001b[0m\u001b[0m\n\u001b[0;32m--> 100\u001b[0;31m     \u001b[0;32mraise\u001b[0m \u001b[0mLinAlgError\u001b[0m\u001b[0;34m(\u001b[0m\u001b[0;34m\"Matrix is not positive definite\"\u001b[0m\u001b[0;34m)\u001b[0m\u001b[0;34m\u001b[0m\u001b[0;34m\u001b[0m\u001b[0m\n\u001b[0m\u001b[1;32m    101\u001b[0m \u001b[0;34m\u001b[0m\u001b[0m\n\u001b[1;32m    102\u001b[0m \u001b[0;32mdef\u001b[0m \u001b[0m_raise_linalgerror_eigenvalues_nonconvergence\u001b[0m\u001b[0;34m(\u001b[0m\u001b[0merr\u001b[0m\u001b[0;34m,\u001b[0m \u001b[0mflag\u001b[0m\u001b[0;34m)\u001b[0m\u001b[0;34m:\u001b[0m\u001b[0;34m\u001b[0m\u001b[0;34m\u001b[0m\u001b[0m\n",
      "\u001b[0;31mLinAlgError\u001b[0m: Matrix is not positive definite"
     ]
    }
   ],
   "source": [
    "#Problem 2\n",
    "from numpy import array\n",
    "from numpy.linalg import cholesky\n",
    "\n",
    "L = cholesky(B)"
   ]
  },
  {
   "cell_type": "code",
   "execution_count": 4,
   "metadata": {},
   "outputs": [
    {
     "ename": "SyntaxError",
     "evalue": "invalid syntax (<ipython-input-4-204d5f64a84e>, line 1)",
     "output_type": "error",
     "traceback": [
      "\u001b[0;36m  File \u001b[0;32m\"<ipython-input-4-204d5f64a84e>\"\u001b[0;36m, line \u001b[0;32m1\u001b[0m\n\u001b[0;31m    Becuase the Matrix is not positive definite,we cannot solve the Cholesky factorization of A* A-transpose.\u001b[0m\n\u001b[0m              ^\u001b[0m\n\u001b[0;31mSyntaxError\u001b[0m\u001b[0;31m:\u001b[0m invalid syntax\n"
     ]
    }
   ],
   "source": [
    "Becuase the Matrix is not positive definite,we cannot solve the Cholesky factorization of A* A-transpose. \n",
    "However, we can solve the Cholesky factorization of A-transpose * A."
   ]
  },
  {
   "cell_type": "code",
   "execution_count": 5,
   "metadata": {},
   "outputs": [
    {
     "name": "stdout",
     "output_type": "stream",
     "text": [
      "Original (m x m) B Matrix\n",
      "[[  86.   25.  -58.  110.   67.   14.  -17.]\n",
      " [  25.  245.   44.  -61.   79.  -52.  -69.]\n",
      " [ -58.   44.  168. -160.   64.  144.   34.]\n",
      " [ 110.  -61. -160.  211.   11.  -52.  -18.]\n",
      " [  67.   79.   64.   11.  145.  136.    3.]\n",
      " [  14.  -52.  144.  -52.  136.  264.   70.]\n",
      " [ -17.  -69.   34.  -18.    3.   70.   34.]]\n",
      " ------------- \n",
      "EigenValues of B\n",
      "[ 0.00000000e+00+0.00000000e+00j  5.15285758e+02+0.00000000e+00j\n",
      "  3.06210772e+02+0.00000000e+00j  3.31503469e+02+0.00000000e+00j\n",
      "  8.90742995e-15+1.37104212e-14j  8.90742995e-15-1.37104212e-14j\n",
      " -1.54977558e-15+0.00000000e+00j]\n",
      " ------------- \n",
      "EigenVectors of B\n",
      "[[-0.85683494+0.j          0.12499752+0.j          0.44445567+0.j\n",
      "   0.22949654+0.j          0.10492431+0.17814131j  0.10492431-0.17814131j\n",
      "  -0.83908725+0.j        ]\n",
      " [ 0.12169311+0.j         -0.12644824+0.j          0.59256921+0.j\n",
      "  -0.62438468+0.j         -0.12372402+0.12007185j -0.12372402-0.12007185j\n",
      "   0.20112678+0.j        ]\n",
      " [-0.16281956+0.j         -0.5580275 +0.j         -0.09492256+0.j\n",
      "  -0.12012625+0.j         -0.54031331+0.j         -0.54031331-0.j\n",
      "  -0.16215533+0.j        ]\n",
      " [ 0.36351998+0.j          0.46001079+0.j          0.34008853+0.j\n",
      "   0.44803347+0.j         -0.50405447+0.01689927j -0.50405447-0.01689927j\n",
      "   0.39878313+0.j        ]\n",
      " [ 0.28139745+0.j         -0.30162268+0.j          0.53375638+0.j\n",
      "   0.18118881+0.j          0.24179547-0.42027321j  0.24179547+0.42027321j\n",
      "   0.2120161 +0.j        ]\n",
      " [ 0.09987647+0.j         -0.58110611+0.j          0.09072887+0.j\n",
      "   0.51368754+0.j          0.0589113 +0.29421672j  0.0589113 -0.29421672j\n",
      "   0.11206936+0.j        ]\n",
      " [-0.05663796+0.j         -0.12931082+0.j         -0.18309229+0.j\n",
      "   0.21355684+0.j         -0.06778674-0.22696483j -0.06778674+0.22696483j\n",
      "   0.1124629 +0.j        ]]\n",
      " ------------- \n"
     ]
    }
   ],
   "source": [
    "#Problem 3\n",
    "from numpy import array\n",
    "from numpy.linalg import eig\n",
    "print(\"Original (m x m) B Matrix\")\n",
    "print(B)\n",
    "print(\" ------------- \")\n",
    "# factor\n",
    "Eig_Values, Eig_Vectors = eig(B)\n",
    "#\n",
    "print(\"EigenValues of B\")\n",
    "print(Eig_Values)\n",
    "print(\" ------------- \")\n",
    "#\n",
    "print(\"EigenVectors of B\")\n",
    "print(Eig_Vectors)\n",
    "print(\" ------------- \")"
   ]
  },
  {
   "cell_type": "code",
   "execution_count": 9,
   "metadata": {},
   "outputs": [
    {
     "name": "stdout",
     "output_type": "stream",
     "text": [
      "[[ 7.  1.  6.]\n",
      " [ 9. 10. -8.]\n",
      " [-8. 10. -2.]\n",
      " [ 9. -7.  9.]\n",
      " [ 3. 10.  6.]\n",
      " [-8. 10. 10.]\n",
      " [-5.  0.  3.]]\n",
      " ---------- \n",
      "Matrix Q (m x m)\n",
      "[[-0.36244626 -0.13585128 -0.34060391 -0.74605457 -0.40139537 -0.08700152\n",
      "   0.09423999]\n",
      " [-0.46600234 -0.59722563  0.42795681  0.27305732 -0.23776021  0.22354008\n",
      "   0.24890953]\n",
      " [ 0.4142243  -0.38506363  0.12239091  0.07542182 -0.37896427 -0.69560984\n",
      "  -0.17885546]\n",
      " [-0.46600234  0.22711214 -0.50918172  0.57382623 -0.24373746 -0.28211375\n",
      "  -0.06101812]\n",
      " [-0.15533411 -0.52234492 -0.33425827 -0.03657999  0.72324233 -0.25853798\n",
      "  -0.00624905]\n",
      " [ 0.4142243  -0.38506363 -0.53845627  0.16438467 -0.23699453  0.54182827\n",
      "  -0.1159417 ]\n",
      " [ 0.25889019  0.06240059 -0.15790071  0.0742756  -0.00916984 -0.13630699\n",
      "   0.93806655]]\n",
      " ---------- \n",
      "Matrix Q^T Q = I (m x m)\n",
      "[[ 1.00000000e+00 -5.08079358e-19  5.09571533e-17 -7.13632916e-17\n",
      "  -2.80273541e-18 -2.94894183e-17 -3.13319262e-18]\n",
      " [-5.08079358e-19  1.00000000e+00  7.91016347e-17  1.66437948e-16\n",
      "   5.13036139e-17  1.41141975e-17  1.32265836e-17]\n",
      " [ 5.09571533e-17  7.91016347e-17  1.00000000e+00  7.60267324e-17\n",
      "   2.04882699e-16  3.26270450e-16  8.15779269e-17]\n",
      " [-7.13632916e-17  1.66437948e-16  7.60267324e-17  1.00000000e+00\n",
      "   5.65045528e-17  3.15729690e-18 -2.74616008e-17]\n",
      " [-2.80273541e-18  5.13036139e-17  2.04882699e-16  5.65045528e-17\n",
      "   1.00000000e+00  1.81785670e-16  1.46238754e-17]\n",
      " [-2.94894183e-17  1.41141975e-17  3.26270450e-16  3.15729690e-18\n",
      "   1.81785670e-16  1.00000000e+00  2.17009447e-17]\n",
      " [-3.13319262e-18  1.32265836e-17  8.15779269e-17 -2.74616008e-17\n",
      "   1.46238754e-17  2.17009447e-17  1.00000000e+00]]\n",
      " ---------- \n",
      "Matrix R (m x n)\n",
      "[[-19.31320792   4.97069158   0.51778037]\n",
      " [  0.         -20.62261441  -0.02067019]\n",
      " [  0.           0.         -18.15850975]\n",
      " [  0.           0.           0.        ]\n",
      " [  0.           0.           0.        ]\n",
      " [  0.           0.           0.        ]\n",
      " [  0.           0.           0.        ]]\n",
      " ---------- \n"
     ]
    }
   ],
   "source": [
    "#Problem 4\n",
    "# QR decomposition\n",
    "from numpy import array\n",
    "from numpy.linalg import qr\n",
    "from numpy.linalg import eig\n",
    "from numpy import array\n",
    "from scipy.linalg import lu \n",
    "import numpy as np\n",
    "import scipy.linalg as linalg\n",
    "\n",
    "print(A)\n",
    "print(\" ---------- \")\n",
    "#\n",
    "# factor\n",
    "Q, R = qr(A, 'complete')\n",
    "print(\"Matrix Q (m x m)\")\n",
    "print(Q)\n",
    "print(\" ---------- \")\n",
    "print(\"Matrix Q^T Q = I (m x m)\")\n",
    "print(Q.T.dot(Q))\n",
    "print(\" ---------- \")\n",
    "print(\"Matrix R (m x n)\")\n",
    "print(R)\n",
    "print(\" ---------- \")\n"
   ]
  },
  {
   "cell_type": "code",
   "execution_count": 12,
   "metadata": {},
   "outputs": [
    {
     "data": {
      "text/plain": [
       "array([[-19.31320792,   4.97069158,   0.51778037],\n",
       "       [  0.        , -20.62261441,  -0.02067019],\n",
       "       [  0.        ,   0.        , -18.15850975]])"
      ]
     },
     "execution_count": 12,
     "metadata": {},
     "output_type": "execute_result"
    }
   ],
   "source": [
    "#this is the case that i cannot solve Rx=Q_tranposexb\n",
    "#then i apply the least square approach to solve it.\n",
    "R_new = np.delete(R,[3,4,5,6],0)\n",
    "\n",
    "R_new\n",
    "#np.linalg.solve(R_new,Q.T @ b)\n",
    "\n"
   ]
  },
  {
   "cell_type": "code",
   "execution_count": 10,
   "metadata": {},
   "outputs": [
    {
     "name": "stdout",
     "output_type": "stream",
     "text": [
      "x is\n",
      "[[0.00302067]\n",
      " [0.29357068]\n",
      " [0.39439241]]\n"
     ]
    }
   ],
   "source": [
    "z = np.dot(A_trans, b) \n",
    "\n",
    "R_trans = R.transpose()\n",
    "\n",
    "y = np.dot(R_trans,R)\n",
    "\n",
    "x = linalg.solve(y, z)\n",
    "\n",
    "print(\"x is\")\n",
    "print(x)\n"
   ]
  },
  {
   "cell_type": "code",
   "execution_count": 7,
   "metadata": {},
   "outputs": [
    {
     "name": "stdout",
     "output_type": "stream",
     "text": [
      "x is\n",
      "[[0.00302067]\n",
      " [0.29357068]\n",
      " [0.39439241]]\n"
     ]
    }
   ],
   "source": [
    "#Problem 5\n",
    "# Singular Value Decomposition\n",
    "from numpy import array\n",
    "from numpy.linalg import eig\n",
    "from scipy.linalg import svd\n",
    "# define a matrix\n",
    "U, Sigma, V = np.linalg.svd(A, full_matrices=False)\n",
    "c = np.dot(U.T,b)\n",
    "w = np.linalg.solve(np.diag(Sigma),c)\n",
    "x = np.dot(V.T,w)\n",
    "print(\"x is\")\n",
    "print(x)"
   ]
  },
  {
   "cell_type": "code",
   "execution_count": null,
   "metadata": {},
   "outputs": [],
   "source": []
  }
 ],
 "metadata": {
  "kernelspec": {
   "display_name": "Python 3",
   "language": "python",
   "name": "python3"
  },
  "language_info": {
   "codemirror_mode": {
    "name": "ipython",
    "version": 3
   },
   "file_extension": ".py",
   "mimetype": "text/x-python",
   "name": "python",
   "nbconvert_exporter": "python",
   "pygments_lexer": "ipython3",
   "version": "3.7.4"
  }
 },
 "nbformat": 4,
 "nbformat_minor": 2
}
